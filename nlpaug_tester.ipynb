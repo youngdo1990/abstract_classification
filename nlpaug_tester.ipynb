{
 "cells": [
  {
   "cell_type": "code",
   "execution_count": 1,
   "metadata": {},
   "outputs": [
    {
     "ename": "KeyboardInterrupt",
     "evalue": "",
     "output_type": "error",
     "traceback": [
      "\u001b[1;31m---------------------------------------------------------------------------\u001b[0m",
      "\u001b[1;31mKeyboardInterrupt\u001b[0m                         Traceback (most recent call last)",
      "Cell \u001b[1;32mIn[1], line 1\u001b[0m\n\u001b[1;32m----> 1\u001b[0m \u001b[39mimport\u001b[39;00m \u001b[39mnlpaug\u001b[39;00m\u001b[39m.\u001b[39;00m\u001b[39maugmenter\u001b[39;00m\u001b[39m.\u001b[39;00m\u001b[39mchar\u001b[39;00m \u001b[39mas\u001b[39;00m \u001b[39mnac\u001b[39;00m\n\u001b[0;32m      2\u001b[0m \u001b[39mimport\u001b[39;00m \u001b[39mnlpaug\u001b[39;00m\u001b[39m.\u001b[39;00m\u001b[39maugmenter\u001b[39;00m\u001b[39m.\u001b[39;00m\u001b[39mword\u001b[39;00m \u001b[39mas\u001b[39;00m \u001b[39mnaw\u001b[39;00m\n\u001b[0;32m      3\u001b[0m \u001b[39mimport\u001b[39;00m \u001b[39mnlpaug\u001b[39;00m\u001b[39m.\u001b[39;00m\u001b[39maugmenter\u001b[39;00m\u001b[39m.\u001b[39;00m\u001b[39msentence\u001b[39;00m \u001b[39mas\u001b[39;00m \u001b[39mnas\u001b[39;00m\n",
      "File \u001b[1;32mc:\\Users\\user\\Envs\\snuh\\Lib\\site-packages\\nlpaug\\__init__.py:2\u001b[0m\n\u001b[0;32m      1\u001b[0m \u001b[39mfrom\u001b[39;00m \u001b[39m__future__\u001b[39;00m \u001b[39mimport\u001b[39;00m absolute_import\n\u001b[1;32m----> 2\u001b[0m \u001b[39mfrom\u001b[39;00m \u001b[39mnlpaug\u001b[39;00m\u001b[39m.\u001b[39;00m\u001b[39mbase_augmenter\u001b[39;00m \u001b[39mimport\u001b[39;00m \u001b[39m*\u001b[39m\n\u001b[0;32m      4\u001b[0m __all__ \u001b[39m=\u001b[39m [\u001b[39m'\u001b[39m\u001b[39mbase_augmenter\u001b[39m\u001b[39m'\u001b[39m]\n\u001b[0;32m      6\u001b[0m __version__ \u001b[39m=\u001b[39m \u001b[39m'\u001b[39m\u001b[39m1.1.11\u001b[39m\u001b[39m'\u001b[39m\n",
      "File \u001b[1;32mc:\\Users\\user\\Envs\\snuh\\Lib\\site-packages\\nlpaug\\base_augmenter.py:7\u001b[0m\n\u001b[0;32m      4\u001b[0m \u001b[39mimport\u001b[39;00m \u001b[39mpandas\u001b[39;00m \u001b[39mas\u001b[39;00m \u001b[39mpd\u001b[39;00m\n\u001b[0;32m      5\u001b[0m \u001b[39mfrom\u001b[39;00m \u001b[39mmultiprocessing\u001b[39;00m\u001b[39m.\u001b[39;00m\u001b[39mdummy\u001b[39;00m \u001b[39mimport\u001b[39;00m Pool \u001b[39mas\u001b[39;00m ThreadPool\n\u001b[1;32m----> 7\u001b[0m \u001b[39mfrom\u001b[39;00m \u001b[39mnlpaug\u001b[39;00m\u001b[39m.\u001b[39;00m\u001b[39mutil\u001b[39;00m \u001b[39mimport\u001b[39;00m Action, Method, WarningException, WarningName, WarningCode, WarningMessage\n\u001b[0;32m     10\u001b[0m \u001b[39mclass\u001b[39;00m \u001b[39mAugmenter\u001b[39;00m:\n\u001b[0;32m     11\u001b[0m     \u001b[39mdef\u001b[39;00m \u001b[39m__init__\u001b[39m(\u001b[39mself\u001b[39m, name, method, action, aug_min, aug_max, aug_p\u001b[39m=\u001b[39m\u001b[39m0.1\u001b[39m, device\u001b[39m=\u001b[39m\u001b[39m'\u001b[39m\u001b[39mcpu\u001b[39m\u001b[39m'\u001b[39m, \n\u001b[0;32m     12\u001b[0m         include_detail\u001b[39m=\u001b[39m\u001b[39mFalse\u001b[39;00m, verbose\u001b[39m=\u001b[39m\u001b[39m0\u001b[39m):\n",
      "File \u001b[1;32mc:\\Users\\user\\Envs\\snuh\\Lib\\site-packages\\nlpaug\\util\\__init__.py:9\u001b[0m\n\u001b[0;32m      6\u001b[0m \u001b[39mfrom\u001b[39;00m \u001b[39mnlpaug\u001b[39;00m\u001b[39m.\u001b[39;00m\u001b[39mutil\u001b[39;00m\u001b[39m.\u001b[39;00m\u001b[39mtext\u001b[39;00m \u001b[39mimport\u001b[39;00m \u001b[39m*\u001b[39m\n\u001b[0;32m      7\u001b[0m \u001b[39mfrom\u001b[39;00m \u001b[39mnlpaug\u001b[39;00m\u001b[39m.\u001b[39;00m\u001b[39mutil\u001b[39;00m\u001b[39m.\u001b[39;00m\u001b[39maudio\u001b[39;00m \u001b[39mimport\u001b[39;00m \u001b[39m*\u001b[39m\n\u001b[1;32m----> 9\u001b[0m \u001b[39mfrom\u001b[39;00m \u001b[39mnlpaug\u001b[39;00m\u001b[39m.\u001b[39;00m\u001b[39mutil\u001b[39;00m\u001b[39m.\u001b[39;00m\u001b[39mfile\u001b[39;00m \u001b[39mimport\u001b[39;00m \u001b[39m*\u001b[39m\n\u001b[0;32m     10\u001b[0m \u001b[39mfrom\u001b[39;00m \u001b[39mnlpaug\u001b[39;00m\u001b[39m.\u001b[39;00m\u001b[39mutil\u001b[39;00m\u001b[39m.\u001b[39;00m\u001b[39mdecorator\u001b[39;00m \u001b[39mimport\u001b[39;00m \u001b[39m*\u001b[39m\n\u001b[0;32m     11\u001b[0m \u001b[39mfrom\u001b[39;00m \u001b[39mnlpaug\u001b[39;00m\u001b[39m.\u001b[39;00m\u001b[39mutil\u001b[39;00m\u001b[39m.\u001b[39;00m\u001b[39mlogger\u001b[39;00m \u001b[39mimport\u001b[39;00m \u001b[39m*\u001b[39m\n",
      "File \u001b[1;32mc:\\Users\\user\\Envs\\snuh\\Lib\\site-packages\\nlpaug\\util\\file\\__init__.py:1\u001b[0m\n\u001b[1;32m----> 1\u001b[0m \u001b[39mfrom\u001b[39;00m \u001b[39mnlpaug\u001b[39;00m\u001b[39m.\u001b[39;00m\u001b[39mutil\u001b[39;00m\u001b[39m.\u001b[39;00m\u001b[39mfile\u001b[39;00m\u001b[39m.\u001b[39;00m\u001b[39mdownload\u001b[39;00m \u001b[39mimport\u001b[39;00m \u001b[39m*\u001b[39m\n\u001b[0;32m      2\u001b[0m \u001b[39mfrom\u001b[39;00m \u001b[39mnlpaug\u001b[39;00m\u001b[39m.\u001b[39;00m\u001b[39mutil\u001b[39;00m\u001b[39m.\u001b[39;00m\u001b[39mfile\u001b[39;00m\u001b[39m.\u001b[39;00m\u001b[39mlibrary\u001b[39;00m \u001b[39mimport\u001b[39;00m \u001b[39m*\u001b[39m\n\u001b[0;32m      3\u001b[0m \u001b[39mfrom\u001b[39;00m \u001b[39mnlpaug\u001b[39;00m\u001b[39m.\u001b[39;00m\u001b[39mutil\u001b[39;00m\u001b[39m.\u001b[39;00m\u001b[39mfile\u001b[39;00m\u001b[39m.\u001b[39;00m\u001b[39mread\u001b[39;00m \u001b[39mimport\u001b[39;00m \u001b[39m*\u001b[39m\n",
      "File \u001b[1;32mc:\\Users\\user\\Envs\\snuh\\Lib\\site-packages\\nlpaug\\util\\file\\download.py:8\u001b[0m\n\u001b[0;32m      5\u001b[0m \u001b[39mimport\u001b[39;00m \u001b[39murllib\u001b[39;00m\n\u001b[0;32m      6\u001b[0m \u001b[39mimport\u001b[39;00m \u001b[39mzipfile\u001b[39;00m\n\u001b[1;32m----> 8\u001b[0m \u001b[39mimport\u001b[39;00m \u001b[39mgdown\u001b[39;00m\n\u001b[0;32m      9\u001b[0m \u001b[39mimport\u001b[39;00m \u001b[39mrequests\u001b[39;00m\n\u001b[0;32m     12\u001b[0m \u001b[39mclass\u001b[39;00m \u001b[39mDownloadUtil\u001b[39;00m:\n",
      "File \u001b[1;32mc:\\Users\\user\\Envs\\snuh\\Lib\\site-packages\\gdown\\__init__.py:6\u001b[0m\n\u001b[0;32m      4\u001b[0m \u001b[39mfrom\u001b[39;00m \u001b[39m.\u001b[39;00m\u001b[39mcached_download\u001b[39;00m \u001b[39mimport\u001b[39;00m md5sum\n\u001b[0;32m      5\u001b[0m \u001b[39mfrom\u001b[39;00m \u001b[39m.\u001b[39;00m\u001b[39mdownload\u001b[39;00m \u001b[39mimport\u001b[39;00m download\n\u001b[1;32m----> 6\u001b[0m \u001b[39mfrom\u001b[39;00m \u001b[39m.\u001b[39;00m\u001b[39mdownload_folder\u001b[39;00m \u001b[39mimport\u001b[39;00m download_folder\n\u001b[0;32m      7\u001b[0m \u001b[39mfrom\u001b[39;00m \u001b[39m.\u001b[39;00m\u001b[39mextractall\u001b[39;00m \u001b[39mimport\u001b[39;00m extractall\n\u001b[0;32m      9\u001b[0m __author__ \u001b[39m=\u001b[39m \u001b[39m\"\u001b[39m\u001b[39mKentaro Wada <www.kentaro.wada@gmail.com>\u001b[39m\u001b[39m\"\u001b[39m\n",
      "File \u001b[1;32mc:\\Users\\user\\Envs\\snuh\\Lib\\site-packages\\gdown\\download_folder.py:14\u001b[0m\n\u001b[0;32m     11\u001b[0m \u001b[39mimport\u001b[39;00m \u001b[39mtextwrap\u001b[39;00m\n\u001b[0;32m     12\u001b[0m \u001b[39mimport\u001b[39;00m \u001b[39mwarnings\u001b[39;00m\n\u001b[1;32m---> 14\u001b[0m \u001b[39mimport\u001b[39;00m \u001b[39mbs4\u001b[39;00m\n\u001b[0;32m     15\u001b[0m \u001b[39mimport\u001b[39;00m \u001b[39mrequests\u001b[39;00m\n\u001b[0;32m     17\u001b[0m \u001b[39mfrom\u001b[39;00m \u001b[39m.\u001b[39;00m\u001b[39mdownload\u001b[39;00m \u001b[39mimport\u001b[39;00m _get_session\n",
      "File \u001b[1;32mc:\\Users\\user\\Envs\\snuh\\Lib\\site-packages\\bs4\\__init__.py:37\u001b[0m\n\u001b[0;32m     34\u001b[0m \u001b[39mif\u001b[39;00m sys\u001b[39m.\u001b[39mversion_info\u001b[39m.\u001b[39mmajor \u001b[39m<\u001b[39m \u001b[39m3\u001b[39m:\n\u001b[0;32m     35\u001b[0m     \u001b[39mraise\u001b[39;00m \u001b[39mImportError\u001b[39;00m(\u001b[39m'\u001b[39m\u001b[39mYou are trying to use a Python 3-specific version of Beautiful Soup under Python 2. This will not work. The final version of Beautiful Soup to support Python 2 was 4.9.3.\u001b[39m\u001b[39m'\u001b[39m)\n\u001b[1;32m---> 37\u001b[0m \u001b[39mfrom\u001b[39;00m \u001b[39m.\u001b[39;00m\u001b[39mbuilder\u001b[39;00m \u001b[39mimport\u001b[39;00m (\n\u001b[0;32m     38\u001b[0m     builder_registry,\n\u001b[0;32m     39\u001b[0m     ParserRejectedMarkup,\n\u001b[0;32m     40\u001b[0m     XMLParsedAsHTMLWarning,\n\u001b[0;32m     41\u001b[0m     HTMLParserTreeBuilder\n\u001b[0;32m     42\u001b[0m )\n\u001b[0;32m     43\u001b[0m \u001b[39mfrom\u001b[39;00m \u001b[39m.\u001b[39;00m\u001b[39mdammit\u001b[39;00m \u001b[39mimport\u001b[39;00m UnicodeDammit\n\u001b[0;32m     44\u001b[0m \u001b[39mfrom\u001b[39;00m \u001b[39m.\u001b[39;00m\u001b[39melement\u001b[39;00m \u001b[39mimport\u001b[39;00m (\n\u001b[0;32m     45\u001b[0m     CData,\n\u001b[0;32m     46\u001b[0m     Comment,\n\u001b[1;32m   (...)\u001b[0m\n\u001b[0;32m     60\u001b[0m     TemplateString,\n\u001b[0;32m     61\u001b[0m     )\n",
      "File \u001b[1;32mc:\\Users\\user\\Envs\\snuh\\Lib\\site-packages\\bs4\\builder\\__init__.py:9\u001b[0m\n\u001b[0;32m      7\u001b[0m \u001b[39mimport\u001b[39;00m \u001b[39mwarnings\u001b[39;00m\n\u001b[0;32m      8\u001b[0m \u001b[39mimport\u001b[39;00m \u001b[39msys\u001b[39;00m\n\u001b[1;32m----> 9\u001b[0m \u001b[39mfrom\u001b[39;00m \u001b[39mbs4\u001b[39;00m\u001b[39m.\u001b[39;00m\u001b[39melement\u001b[39;00m \u001b[39mimport\u001b[39;00m (\n\u001b[0;32m     10\u001b[0m     CharsetMetaAttributeValue,\n\u001b[0;32m     11\u001b[0m     ContentMetaAttributeValue,\n\u001b[0;32m     12\u001b[0m     RubyParenthesisString,\n\u001b[0;32m     13\u001b[0m     RubyTextString,\n\u001b[0;32m     14\u001b[0m     Stylesheet,\n\u001b[0;32m     15\u001b[0m     Script,\n\u001b[0;32m     16\u001b[0m     TemplateString,\n\u001b[0;32m     17\u001b[0m     nonwhitespace_re\n\u001b[0;32m     18\u001b[0m )\n\u001b[0;32m     20\u001b[0m __all__ \u001b[39m=\u001b[39m [\n\u001b[0;32m     21\u001b[0m     \u001b[39m'\u001b[39m\u001b[39mHTMLTreeBuilder\u001b[39m\u001b[39m'\u001b[39m,\n\u001b[0;32m     22\u001b[0m     \u001b[39m'\u001b[39m\u001b[39mSAXTreeBuilder\u001b[39m\u001b[39m'\u001b[39m,\n\u001b[0;32m     23\u001b[0m     \u001b[39m'\u001b[39m\u001b[39mTreeBuilder\u001b[39m\u001b[39m'\u001b[39m,\n\u001b[0;32m     24\u001b[0m     \u001b[39m'\u001b[39m\u001b[39mTreeBuilderRegistry\u001b[39m\u001b[39m'\u001b[39m,\n\u001b[0;32m     25\u001b[0m     ]\n\u001b[0;32m     27\u001b[0m \u001b[39m# Some useful features for a TreeBuilder to have.\u001b[39;00m\n",
      "File \u001b[1;32mc:\\Users\\user\\Envs\\snuh\\Lib\\site-packages\\bs4\\element.py:12\u001b[0m\n\u001b[0;32m      9\u001b[0m \u001b[39mimport\u001b[39;00m \u001b[39msys\u001b[39;00m\n\u001b[0;32m     10\u001b[0m \u001b[39mimport\u001b[39;00m \u001b[39mwarnings\u001b[39;00m\n\u001b[1;32m---> 12\u001b[0m \u001b[39mfrom\u001b[39;00m \u001b[39mbs4\u001b[39;00m\u001b[39m.\u001b[39;00m\u001b[39mcss\u001b[39;00m \u001b[39mimport\u001b[39;00m CSS\n\u001b[0;32m     13\u001b[0m \u001b[39mfrom\u001b[39;00m \u001b[39mbs4\u001b[39;00m\u001b[39m.\u001b[39;00m\u001b[39mformatter\u001b[39;00m \u001b[39mimport\u001b[39;00m (\n\u001b[0;32m     14\u001b[0m     Formatter,\n\u001b[0;32m     15\u001b[0m     HTMLFormatter,\n\u001b[0;32m     16\u001b[0m     XMLFormatter,\n\u001b[0;32m     17\u001b[0m )\n\u001b[0;32m     19\u001b[0m DEFAULT_OUTPUT_ENCODING \u001b[39m=\u001b[39m \u001b[39m\"\u001b[39m\u001b[39mutf-8\u001b[39m\u001b[39m\"\u001b[39m\n",
      "File \u001b[1;32mc:\\Users\\user\\Envs\\snuh\\Lib\\site-packages\\bs4\\css.py:5\u001b[0m\n\u001b[0;32m      3\u001b[0m \u001b[39mimport\u001b[39;00m \u001b[39mwarnings\u001b[39;00m\n\u001b[0;32m      4\u001b[0m \u001b[39mtry\u001b[39;00m:\n\u001b[1;32m----> 5\u001b[0m     \u001b[39mimport\u001b[39;00m \u001b[39msoupsieve\u001b[39;00m\n\u001b[0;32m      6\u001b[0m \u001b[39mexcept\u001b[39;00m \u001b[39mImportError\u001b[39;00m \u001b[39mas\u001b[39;00m e:\n\u001b[0;32m      7\u001b[0m     soupsieve \u001b[39m=\u001b[39m \u001b[39mNone\u001b[39;00m\n",
      "File \u001b[1;32mc:\\Users\\user\\Envs\\snuh\\Lib\\site-packages\\soupsieve\\__init__.py:30\u001b[0m\n\u001b[0;32m     28\u001b[0m \u001b[39mfrom\u001b[39;00m \u001b[39m__future__\u001b[39;00m \u001b[39mimport\u001b[39;00m annotations\n\u001b[0;32m     29\u001b[0m \u001b[39mfrom\u001b[39;00m \u001b[39m.\u001b[39;00m\u001b[39m__meta__\u001b[39;00m \u001b[39mimport\u001b[39;00m __version__, __version_info__  \u001b[39m# noqa: F401\u001b[39;00m\n\u001b[1;32m---> 30\u001b[0m \u001b[39mfrom\u001b[39;00m \u001b[39m.\u001b[39;00m \u001b[39mimport\u001b[39;00m css_parser \u001b[39mas\u001b[39;00m cp\n\u001b[0;32m     31\u001b[0m \u001b[39mfrom\u001b[39;00m \u001b[39m.\u001b[39;00m \u001b[39mimport\u001b[39;00m css_match \u001b[39mas\u001b[39;00m cm\n\u001b[0;32m     32\u001b[0m \u001b[39mfrom\u001b[39;00m \u001b[39m.\u001b[39;00m \u001b[39mimport\u001b[39;00m css_types \u001b[39mas\u001b[39;00m ct\n",
      "File \u001b[1;32mc:\\Users\\user\\Envs\\snuh\\Lib\\site-packages\\soupsieve\\css_parser.py:432\u001b[0m\n\u001b[0;32m    421\u001b[0m         \u001b[39mreturn\u001b[39;00m (\n\u001b[0;32m    422\u001b[0m             \u001b[39m'\u001b[39m\u001b[39m_Selector(tag=\u001b[39m\u001b[39m{!r}\u001b[39;00m\u001b[39m, ids=\u001b[39m\u001b[39m{!r}\u001b[39;00m\u001b[39m, classes=\u001b[39m\u001b[39m{!r}\u001b[39;00m\u001b[39m, attributes=\u001b[39m\u001b[39m{!r}\u001b[39;00m\u001b[39m, nth=\u001b[39m\u001b[39m{!r}\u001b[39;00m\u001b[39m, selectors=\u001b[39m\u001b[39m{!r}\u001b[39;00m\u001b[39m, \u001b[39m\u001b[39m'\u001b[39m\n\u001b[0;32m    423\u001b[0m             \u001b[39m'\u001b[39m\u001b[39mrelations=\u001b[39m\u001b[39m{!r}\u001b[39;00m\u001b[39m, rel_type=\u001b[39m\u001b[39m{!r}\u001b[39;00m\u001b[39m, contains=\u001b[39m\u001b[39m{!r}\u001b[39;00m\u001b[39m, lang=\u001b[39m\u001b[39m{!r}\u001b[39;00m\u001b[39m, flags=\u001b[39m\u001b[39m{!r}\u001b[39;00m\u001b[39m, no_match=\u001b[39m\u001b[39m{!r}\u001b[39;00m\u001b[39m)\u001b[39m\u001b[39m'\u001b[39m\n\u001b[1;32m   (...)\u001b[0m\n\u001b[0;32m    426\u001b[0m             \u001b[39mself\u001b[39m\u001b[39m.\u001b[39mrelations, \u001b[39mself\u001b[39m\u001b[39m.\u001b[39mrel_type, \u001b[39mself\u001b[39m\u001b[39m.\u001b[39mcontains, \u001b[39mself\u001b[39m\u001b[39m.\u001b[39mlang, \u001b[39mself\u001b[39m\u001b[39m.\u001b[39mflags, \u001b[39mself\u001b[39m\u001b[39m.\u001b[39mno_match\n\u001b[0;32m    427\u001b[0m         )\n\u001b[0;32m    429\u001b[0m     \u001b[39m__repr__\u001b[39m \u001b[39m=\u001b[39m \u001b[39m__str__\u001b[39m\n\u001b[1;32m--> 432\u001b[0m \u001b[39mclass\u001b[39;49;00m \u001b[39mCSSParser\u001b[39;49;00m:\n\u001b[0;32m    433\u001b[0m \u001b[39m    \u001b[39;49m\u001b[39m\"\"\"Parse CSS selectors.\"\"\"\u001b[39;49;00m\n\u001b[0;32m    435\u001b[0m     css_tokens \u001b[39m=\u001b[39;49m (\n\u001b[0;32m    436\u001b[0m         SelectorPattern(\u001b[39m\"\u001b[39;49m\u001b[39mpseudo_close\u001b[39;49m\u001b[39m\"\u001b[39;49m, PAT_PSEUDO_CLOSE),\n\u001b[0;32m    437\u001b[0m         SpecialPseudoPattern(\n\u001b[1;32m   (...)\u001b[0m\n\u001b[0;32m    459\u001b[0m         SelectorPattern(\u001b[39m\"\u001b[39;49m\u001b[39mcombine\u001b[39;49m\u001b[39m\"\u001b[39;49m, PAT_COMBINE)\n\u001b[0;32m    460\u001b[0m     )\n",
      "File \u001b[1;32mc:\\Users\\user\\Envs\\snuh\\Lib\\site-packages\\soupsieve\\css_parser.py:437\u001b[0m, in \u001b[0;36mCSSParser\u001b[1;34m()\u001b[0m\n\u001b[0;32m    432\u001b[0m \u001b[39mclass\u001b[39;00m \u001b[39mCSSParser\u001b[39;00m:\n\u001b[0;32m    433\u001b[0m \u001b[39m    \u001b[39m\u001b[39m\"\"\"Parse CSS selectors.\"\"\"\u001b[39;00m\n\u001b[0;32m    435\u001b[0m     css_tokens \u001b[39m=\u001b[39m (\n\u001b[0;32m    436\u001b[0m         SelectorPattern(\u001b[39m\"\u001b[39m\u001b[39mpseudo_close\u001b[39m\u001b[39m\"\u001b[39m, PAT_PSEUDO_CLOSE),\n\u001b[1;32m--> 437\u001b[0m         SpecialPseudoPattern(\n\u001b[0;32m    438\u001b[0m             (\n\u001b[0;32m    439\u001b[0m                 (\n\u001b[0;32m    440\u001b[0m                     \u001b[39m\"\u001b[39;49m\u001b[39mpseudo_contains\u001b[39;49m\u001b[39m\"\u001b[39;49m,\n\u001b[0;32m    441\u001b[0m                     (\u001b[39m'\u001b[39;49m\u001b[39m:contains\u001b[39;49m\u001b[39m'\u001b[39;49m, \u001b[39m'\u001b[39;49m\u001b[39m:-soup-contains\u001b[39;49m\u001b[39m'\u001b[39;49m, \u001b[39m'\u001b[39;49m\u001b[39m:-soup-contains-own\u001b[39;49m\u001b[39m'\u001b[39;49m),\n\u001b[0;32m    442\u001b[0m                     PAT_PSEUDO_CONTAINS,\n\u001b[0;32m    443\u001b[0m                     SelectorPattern\n\u001b[0;32m    444\u001b[0m                 ),\n\u001b[0;32m    445\u001b[0m                 (\u001b[39m\"\u001b[39;49m\u001b[39mpseudo_nth_child\u001b[39;49m\u001b[39m\"\u001b[39;49m, (\u001b[39m'\u001b[39;49m\u001b[39m:nth-child\u001b[39;49m\u001b[39m'\u001b[39;49m, \u001b[39m'\u001b[39;49m\u001b[39m:nth-last-child\u001b[39;49m\u001b[39m'\u001b[39;49m), PAT_PSEUDO_NTH_CHILD, SelectorPattern),\n\u001b[0;32m    446\u001b[0m                 (\u001b[39m\"\u001b[39;49m\u001b[39mpseudo_nth_type\u001b[39;49m\u001b[39m\"\u001b[39;49m, (\u001b[39m'\u001b[39;49m\u001b[39m:nth-of-type\u001b[39;49m\u001b[39m'\u001b[39;49m, \u001b[39m'\u001b[39;49m\u001b[39m:nth-last-of-type\u001b[39;49m\u001b[39m'\u001b[39;49m), PAT_PSEUDO_NTH_TYPE, SelectorPattern),\n\u001b[0;32m    447\u001b[0m                 (\u001b[39m\"\u001b[39;49m\u001b[39mpseudo_lang\u001b[39;49m\u001b[39m\"\u001b[39;49m, (\u001b[39m'\u001b[39;49m\u001b[39m:lang\u001b[39;49m\u001b[39m'\u001b[39;49m,), PAT_PSEUDO_LANG, SelectorPattern),\n\u001b[0;32m    448\u001b[0m                 (\u001b[39m\"\u001b[39;49m\u001b[39mpseudo_dir\u001b[39;49m\u001b[39m\"\u001b[39;49m, (\u001b[39m'\u001b[39;49m\u001b[39m:dir\u001b[39;49m\u001b[39m'\u001b[39;49m,), PAT_PSEUDO_DIR, SelectorPattern)\n\u001b[0;32m    449\u001b[0m             )\n\u001b[0;32m    450\u001b[0m         ),\n\u001b[0;32m    451\u001b[0m         SelectorPattern(\u001b[39m\"\u001b[39m\u001b[39mpseudo_class_custom\u001b[39m\u001b[39m\"\u001b[39m, PAT_PSEUDO_CLASS_CUSTOM),\n\u001b[0;32m    452\u001b[0m         SelectorPattern(\u001b[39m\"\u001b[39m\u001b[39mpseudo_class\u001b[39m\u001b[39m\"\u001b[39m, PAT_PSEUDO_CLASS),\n\u001b[0;32m    453\u001b[0m         SelectorPattern(\u001b[39m\"\u001b[39m\u001b[39mpseudo_element\u001b[39m\u001b[39m\"\u001b[39m, PAT_PSEUDO_ELEMENT),\n\u001b[0;32m    454\u001b[0m         SelectorPattern(\u001b[39m\"\u001b[39m\u001b[39mat_rule\u001b[39m\u001b[39m\"\u001b[39m, PAT_AT_RULE),\n\u001b[0;32m    455\u001b[0m         SelectorPattern(\u001b[39m\"\u001b[39m\u001b[39mid\u001b[39m\u001b[39m\"\u001b[39m, PAT_ID),\n\u001b[0;32m    456\u001b[0m         SelectorPattern(\u001b[39m\"\u001b[39m\u001b[39mclass\u001b[39m\u001b[39m\"\u001b[39m, PAT_CLASS),\n\u001b[0;32m    457\u001b[0m         SelectorPattern(\u001b[39m\"\u001b[39m\u001b[39mtag\u001b[39m\u001b[39m\"\u001b[39m, PAT_TAG),\n\u001b[0;32m    458\u001b[0m         SelectorPattern(\u001b[39m\"\u001b[39m\u001b[39mattribute\u001b[39m\u001b[39m\"\u001b[39m, PAT_ATTR),\n\u001b[0;32m    459\u001b[0m         SelectorPattern(\u001b[39m\"\u001b[39m\u001b[39mcombine\u001b[39m\u001b[39m\"\u001b[39m, PAT_COMBINE)\n\u001b[0;32m    460\u001b[0m     )\n\u001b[0;32m    462\u001b[0m     \u001b[39mdef\u001b[39;00m \u001b[39m__init__\u001b[39m(\n\u001b[0;32m    463\u001b[0m         \u001b[39mself\u001b[39m,\n\u001b[0;32m    464\u001b[0m         selector: \u001b[39mstr\u001b[39m,\n\u001b[0;32m    465\u001b[0m         custom: \u001b[39mdict\u001b[39m[\u001b[39mstr\u001b[39m, \u001b[39mstr\u001b[39m \u001b[39m|\u001b[39m ct\u001b[39m.\u001b[39mSelectorList] \u001b[39m|\u001b[39m \u001b[39mNone\u001b[39;00m \u001b[39m=\u001b[39m \u001b[39mNone\u001b[39;00m,\n\u001b[0;32m    466\u001b[0m         flags: \u001b[39mint\u001b[39m \u001b[39m=\u001b[39m \u001b[39m0\u001b[39m\n\u001b[0;32m    467\u001b[0m     ) \u001b[39m-\u001b[39m\u001b[39m>\u001b[39m \u001b[39mNone\u001b[39;00m:\n\u001b[0;32m    468\u001b[0m \u001b[39m        \u001b[39m\u001b[39m\"\"\"Initialize.\"\"\"\u001b[39;00m\n",
      "File \u001b[1;32mc:\\Users\\user\\Envs\\snuh\\Lib\\site-packages\\soupsieve\\css_parser.py:335\u001b[0m, in \u001b[0;36mSpecialPseudoPattern.__init__\u001b[1;34m(self, patterns)\u001b[0m\n\u001b[0;32m    333\u001b[0m \u001b[39mfor\u001b[39;00m p \u001b[39min\u001b[39;00m patterns:\n\u001b[0;32m    334\u001b[0m     name \u001b[39m=\u001b[39m p[\u001b[39m0\u001b[39m]\n\u001b[1;32m--> 335\u001b[0m     pattern \u001b[39m=\u001b[39m p[\u001b[39m3\u001b[39;49m](name, p[\u001b[39m2\u001b[39;49m])\n\u001b[0;32m    336\u001b[0m     \u001b[39mfor\u001b[39;00m pseudo \u001b[39min\u001b[39;00m p[\u001b[39m1\u001b[39m]:\n\u001b[0;32m    337\u001b[0m         \u001b[39mself\u001b[39m\u001b[39m.\u001b[39mpatterns[pseudo] \u001b[39m=\u001b[39m pattern\n",
      "File \u001b[1;32mc:\\Users\\user\\Envs\\snuh\\Lib\\site-packages\\soupsieve\\css_parser.py:313\u001b[0m, in \u001b[0;36mSelectorPattern.__init__\u001b[1;34m(self, name, pattern)\u001b[0m\n\u001b[0;32m    310\u001b[0m \u001b[39m\u001b[39m\u001b[39m\"\"\"Initialize.\"\"\"\u001b[39;00m\n\u001b[0;32m    312\u001b[0m \u001b[39mself\u001b[39m\u001b[39m.\u001b[39mname \u001b[39m=\u001b[39m name\n\u001b[1;32m--> 313\u001b[0m \u001b[39mself\u001b[39m\u001b[39m.\u001b[39mre_pattern \u001b[39m=\u001b[39m re\u001b[39m.\u001b[39;49mcompile(pattern, re\u001b[39m.\u001b[39;49mI \u001b[39m|\u001b[39;49m re\u001b[39m.\u001b[39;49mX \u001b[39m|\u001b[39;49m re\u001b[39m.\u001b[39;49mU)\n",
      "File \u001b[1;32m~\\AppData\\Local\\Programs\\Python\\Python311\\Lib\\re\\__init__.py:227\u001b[0m, in \u001b[0;36mcompile\u001b[1;34m(pattern, flags)\u001b[0m\n\u001b[0;32m    225\u001b[0m \u001b[39mdef\u001b[39;00m \u001b[39mcompile\u001b[39m(pattern, flags\u001b[39m=\u001b[39m\u001b[39m0\u001b[39m):\n\u001b[0;32m    226\u001b[0m     \u001b[39m\"\u001b[39m\u001b[39mCompile a regular expression pattern, returning a Pattern object.\u001b[39m\u001b[39m\"\u001b[39m\n\u001b[1;32m--> 227\u001b[0m     \u001b[39mreturn\u001b[39;00m _compile(pattern, flags)\n",
      "File \u001b[1;32m~\\AppData\\Local\\Programs\\Python\\Python311\\Lib\\re\\__init__.py:294\u001b[0m, in \u001b[0;36m_compile\u001b[1;34m(pattern, flags)\u001b[0m\n\u001b[0;32m    288\u001b[0m     \u001b[39mimport\u001b[39;00m \u001b[39mwarnings\u001b[39;00m\n\u001b[0;32m    289\u001b[0m     warnings\u001b[39m.\u001b[39mwarn(\u001b[39m\"\u001b[39m\u001b[39mThe re.TEMPLATE/re.T flag is deprecated \u001b[39m\u001b[39m\"\u001b[39m\n\u001b[0;32m    290\u001b[0m               \u001b[39m\"\u001b[39m\u001b[39mas it is an undocumented flag \u001b[39m\u001b[39m\"\u001b[39m\n\u001b[0;32m    291\u001b[0m               \u001b[39m\"\u001b[39m\u001b[39mwithout an obvious purpose. \u001b[39m\u001b[39m\"\u001b[39m\n\u001b[0;32m    292\u001b[0m               \u001b[39m\"\u001b[39m\u001b[39mDon\u001b[39m\u001b[39m'\u001b[39m\u001b[39mt use it.\u001b[39m\u001b[39m\"\u001b[39m,\n\u001b[0;32m    293\u001b[0m               \u001b[39mDeprecationWarning\u001b[39;00m)\n\u001b[1;32m--> 294\u001b[0m p \u001b[39m=\u001b[39m _compiler\u001b[39m.\u001b[39;49mcompile(pattern, flags)\n\u001b[0;32m    295\u001b[0m \u001b[39mif\u001b[39;00m \u001b[39mnot\u001b[39;00m (flags \u001b[39m&\u001b[39m DEBUG):\n\u001b[0;32m    296\u001b[0m     \u001b[39mif\u001b[39;00m \u001b[39mlen\u001b[39m(_cache) \u001b[39m>\u001b[39m\u001b[39m=\u001b[39m _MAXCACHE:\n\u001b[0;32m    297\u001b[0m         \u001b[39m# Drop the oldest item\u001b[39;00m\n",
      "File \u001b[1;32m~\\AppData\\Local\\Programs\\Python\\Python311\\Lib\\re\\_compiler.py:743\u001b[0m, in \u001b[0;36mcompile\u001b[1;34m(p, flags)\u001b[0m\n\u001b[0;32m    741\u001b[0m \u001b[39mif\u001b[39;00m isstring(p):\n\u001b[0;32m    742\u001b[0m     pattern \u001b[39m=\u001b[39m p\n\u001b[1;32m--> 743\u001b[0m     p \u001b[39m=\u001b[39m _parser\u001b[39m.\u001b[39;49mparse(p, flags)\n\u001b[0;32m    744\u001b[0m \u001b[39melse\u001b[39;00m:\n\u001b[0;32m    745\u001b[0m     pattern \u001b[39m=\u001b[39m \u001b[39mNone\u001b[39;00m\n",
      "File \u001b[1;32m~\\AppData\\Local\\Programs\\Python\\Python311\\Lib\\re\\_parser.py:980\u001b[0m, in \u001b[0;36mparse\u001b[1;34m(str, flags, state)\u001b[0m\n\u001b[0;32m    977\u001b[0m state\u001b[39m.\u001b[39mflags \u001b[39m=\u001b[39m flags\n\u001b[0;32m    978\u001b[0m state\u001b[39m.\u001b[39mstr \u001b[39m=\u001b[39m \u001b[39mstr\u001b[39m\n\u001b[1;32m--> 980\u001b[0m p \u001b[39m=\u001b[39m _parse_sub(source, state, flags \u001b[39m&\u001b[39;49m SRE_FLAG_VERBOSE, \u001b[39m0\u001b[39;49m)\n\u001b[0;32m    981\u001b[0m p\u001b[39m.\u001b[39mstate\u001b[39m.\u001b[39mflags \u001b[39m=\u001b[39m fix_flags(\u001b[39mstr\u001b[39m, p\u001b[39m.\u001b[39mstate\u001b[39m.\u001b[39mflags)\n\u001b[0;32m    983\u001b[0m \u001b[39mif\u001b[39;00m source\u001b[39m.\u001b[39mnext \u001b[39mis\u001b[39;00m \u001b[39mnot\u001b[39;00m \u001b[39mNone\u001b[39;00m:\n",
      "File \u001b[1;32m~\\AppData\\Local\\Programs\\Python\\Python311\\Lib\\re\\_parser.py:455\u001b[0m, in \u001b[0;36m_parse_sub\u001b[1;34m(source, state, verbose, nested)\u001b[0m\n\u001b[0;32m    453\u001b[0m start \u001b[39m=\u001b[39m source\u001b[39m.\u001b[39mtell()\n\u001b[0;32m    454\u001b[0m \u001b[39mwhile\u001b[39;00m \u001b[39mTrue\u001b[39;00m:\n\u001b[1;32m--> 455\u001b[0m     itemsappend(_parse(source, state, verbose, nested \u001b[39m+\u001b[39;49m \u001b[39m1\u001b[39;49m,\n\u001b[0;32m    456\u001b[0m                        \u001b[39mnot\u001b[39;49;00m nested \u001b[39mand\u001b[39;49;00m \u001b[39mnot\u001b[39;49;00m items))\n\u001b[0;32m    457\u001b[0m     \u001b[39mif\u001b[39;00m \u001b[39mnot\u001b[39;00m sourcematch(\u001b[39m\"\u001b[39m\u001b[39m|\u001b[39m\u001b[39m\"\u001b[39m):\n\u001b[0;32m    458\u001b[0m         \u001b[39mbreak\u001b[39;00m\n",
      "File \u001b[1;32m~\\AppData\\Local\\Programs\\Python\\Python311\\Lib\\re\\_parser.py:863\u001b[0m, in \u001b[0;36m_parse\u001b[1;34m(source, state, verbose, nested, first)\u001b[0m\n\u001b[0;32m    860\u001b[0m     group \u001b[39m=\u001b[39m \u001b[39mNone\u001b[39;00m\n\u001b[0;32m    861\u001b[0m sub_verbose \u001b[39m=\u001b[39m ((verbose \u001b[39mor\u001b[39;00m (add_flags \u001b[39m&\u001b[39m SRE_FLAG_VERBOSE)) \u001b[39mand\u001b[39;00m\n\u001b[0;32m    862\u001b[0m                \u001b[39mnot\u001b[39;00m (del_flags \u001b[39m&\u001b[39m SRE_FLAG_VERBOSE))\n\u001b[1;32m--> 863\u001b[0m p \u001b[39m=\u001b[39m _parse_sub(source, state, sub_verbose, nested \u001b[39m+\u001b[39;49m \u001b[39m1\u001b[39;49m)\n\u001b[0;32m    864\u001b[0m \u001b[39mif\u001b[39;00m \u001b[39mnot\u001b[39;00m source\u001b[39m.\u001b[39mmatch(\u001b[39m\"\u001b[39m\u001b[39m)\u001b[39m\u001b[39m\"\u001b[39m):\n\u001b[0;32m    865\u001b[0m     \u001b[39mraise\u001b[39;00m source\u001b[39m.\u001b[39merror(\u001b[39m\"\u001b[39m\u001b[39mmissing ), unterminated subpattern\u001b[39m\u001b[39m\"\u001b[39m,\n\u001b[0;32m    866\u001b[0m                        source\u001b[39m.\u001b[39mtell() \u001b[39m-\u001b[39m start)\n",
      "File \u001b[1;32m~\\AppData\\Local\\Programs\\Python\\Python311\\Lib\\re\\_parser.py:455\u001b[0m, in \u001b[0;36m_parse_sub\u001b[1;34m(source, state, verbose, nested)\u001b[0m\n\u001b[0;32m    453\u001b[0m start \u001b[39m=\u001b[39m source\u001b[39m.\u001b[39mtell()\n\u001b[0;32m    454\u001b[0m \u001b[39mwhile\u001b[39;00m \u001b[39mTrue\u001b[39;00m:\n\u001b[1;32m--> 455\u001b[0m     itemsappend(_parse(source, state, verbose, nested \u001b[39m+\u001b[39;49m \u001b[39m1\u001b[39;49m,\n\u001b[0;32m    456\u001b[0m                        \u001b[39mnot\u001b[39;49;00m nested \u001b[39mand\u001b[39;49;00m \u001b[39mnot\u001b[39;49;00m items))\n\u001b[0;32m    457\u001b[0m     \u001b[39mif\u001b[39;00m \u001b[39mnot\u001b[39;00m sourcematch(\u001b[39m\"\u001b[39m\u001b[39m|\u001b[39m\u001b[39m\"\u001b[39m):\n\u001b[0;32m    458\u001b[0m         \u001b[39mbreak\u001b[39;00m\n",
      "File \u001b[1;32m~\\AppData\\Local\\Programs\\Python\\Python311\\Lib\\re\\_parser.py:863\u001b[0m, in \u001b[0;36m_parse\u001b[1;34m(source, state, verbose, nested, first)\u001b[0m\n\u001b[0;32m    860\u001b[0m     group \u001b[39m=\u001b[39m \u001b[39mNone\u001b[39;00m\n\u001b[0;32m    861\u001b[0m sub_verbose \u001b[39m=\u001b[39m ((verbose \u001b[39mor\u001b[39;00m (add_flags \u001b[39m&\u001b[39m SRE_FLAG_VERBOSE)) \u001b[39mand\u001b[39;00m\n\u001b[0;32m    862\u001b[0m                \u001b[39mnot\u001b[39;00m (del_flags \u001b[39m&\u001b[39m SRE_FLAG_VERBOSE))\n\u001b[1;32m--> 863\u001b[0m p \u001b[39m=\u001b[39m _parse_sub(source, state, sub_verbose, nested \u001b[39m+\u001b[39;49m \u001b[39m1\u001b[39;49m)\n\u001b[0;32m    864\u001b[0m \u001b[39mif\u001b[39;00m \u001b[39mnot\u001b[39;00m source\u001b[39m.\u001b[39mmatch(\u001b[39m\"\u001b[39m\u001b[39m)\u001b[39m\u001b[39m\"\u001b[39m):\n\u001b[0;32m    865\u001b[0m     \u001b[39mraise\u001b[39;00m source\u001b[39m.\u001b[39merror(\u001b[39m\"\u001b[39m\u001b[39mmissing ), unterminated subpattern\u001b[39m\u001b[39m\"\u001b[39m,\n\u001b[0;32m    866\u001b[0m                        source\u001b[39m.\u001b[39mtell() \u001b[39m-\u001b[39m start)\n",
      "File \u001b[1;32m~\\AppData\\Local\\Programs\\Python\\Python311\\Lib\\re\\_parser.py:455\u001b[0m, in \u001b[0;36m_parse_sub\u001b[1;34m(source, state, verbose, nested)\u001b[0m\n\u001b[0;32m    453\u001b[0m start \u001b[39m=\u001b[39m source\u001b[39m.\u001b[39mtell()\n\u001b[0;32m    454\u001b[0m \u001b[39mwhile\u001b[39;00m \u001b[39mTrue\u001b[39;00m:\n\u001b[1;32m--> 455\u001b[0m     itemsappend(_parse(source, state, verbose, nested \u001b[39m+\u001b[39;49m \u001b[39m1\u001b[39;49m,\n\u001b[0;32m    456\u001b[0m                        \u001b[39mnot\u001b[39;49;00m nested \u001b[39mand\u001b[39;49;00m \u001b[39mnot\u001b[39;49;00m items))\n\u001b[0;32m    457\u001b[0m     \u001b[39mif\u001b[39;00m \u001b[39mnot\u001b[39;00m sourcematch(\u001b[39m\"\u001b[39m\u001b[39m|\u001b[39m\u001b[39m\"\u001b[39m):\n\u001b[0;32m    458\u001b[0m         \u001b[39mbreak\u001b[39;00m\n",
      "File \u001b[1;32m~\\AppData\\Local\\Programs\\Python\\Python311\\Lib\\re\\_parser.py:863\u001b[0m, in \u001b[0;36m_parse\u001b[1;34m(source, state, verbose, nested, first)\u001b[0m\n\u001b[0;32m    860\u001b[0m     group \u001b[39m=\u001b[39m \u001b[39mNone\u001b[39;00m\n\u001b[0;32m    861\u001b[0m sub_verbose \u001b[39m=\u001b[39m ((verbose \u001b[39mor\u001b[39;00m (add_flags \u001b[39m&\u001b[39m SRE_FLAG_VERBOSE)) \u001b[39mand\u001b[39;00m\n\u001b[0;32m    862\u001b[0m                \u001b[39mnot\u001b[39;00m (del_flags \u001b[39m&\u001b[39m SRE_FLAG_VERBOSE))\n\u001b[1;32m--> 863\u001b[0m p \u001b[39m=\u001b[39m _parse_sub(source, state, sub_verbose, nested \u001b[39m+\u001b[39;49m \u001b[39m1\u001b[39;49m)\n\u001b[0;32m    864\u001b[0m \u001b[39mif\u001b[39;00m \u001b[39mnot\u001b[39;00m source\u001b[39m.\u001b[39mmatch(\u001b[39m\"\u001b[39m\u001b[39m)\u001b[39m\u001b[39m\"\u001b[39m):\n\u001b[0;32m    865\u001b[0m     \u001b[39mraise\u001b[39;00m source\u001b[39m.\u001b[39merror(\u001b[39m\"\u001b[39m\u001b[39mmissing ), unterminated subpattern\u001b[39m\u001b[39m\"\u001b[39m,\n\u001b[0;32m    866\u001b[0m                        source\u001b[39m.\u001b[39mtell() \u001b[39m-\u001b[39m start)\n",
      "File \u001b[1;32m~\\AppData\\Local\\Programs\\Python\\Python311\\Lib\\re\\_parser.py:457\u001b[0m, in \u001b[0;36m_parse_sub\u001b[1;34m(source, state, verbose, nested)\u001b[0m\n\u001b[0;32m    454\u001b[0m \u001b[39mwhile\u001b[39;00m \u001b[39mTrue\u001b[39;00m:\n\u001b[0;32m    455\u001b[0m     itemsappend(_parse(source, state, verbose, nested \u001b[39m+\u001b[39m \u001b[39m1\u001b[39m,\n\u001b[0;32m    456\u001b[0m                        \u001b[39mnot\u001b[39;00m nested \u001b[39mand\u001b[39;00m \u001b[39mnot\u001b[39;00m items))\n\u001b[1;32m--> 457\u001b[0m     \u001b[39mif\u001b[39;00m \u001b[39mnot\u001b[39;00m sourcematch(\u001b[39m\"\u001b[39;49m\u001b[39m|\u001b[39;49m\u001b[39m\"\u001b[39;49m):\n\u001b[0;32m    458\u001b[0m         \u001b[39mbreak\u001b[39;00m\n\u001b[0;32m    459\u001b[0m     \u001b[39mif\u001b[39;00m \u001b[39mnot\u001b[39;00m nested:\n",
      "File \u001b[1;32m~\\AppData\\Local\\Programs\\Python\\Python311\\Lib\\re\\_parser.py:247\u001b[0m, in \u001b[0;36mTokenizer.match\u001b[1;34m(self, char)\u001b[0m\n\u001b[0;32m    245\u001b[0m     \u001b[39mself\u001b[39m\u001b[39m.\u001b[39mindex \u001b[39m=\u001b[39m index \u001b[39m+\u001b[39m \u001b[39m1\u001b[39m\n\u001b[0;32m    246\u001b[0m     \u001b[39mself\u001b[39m\u001b[39m.\u001b[39mnext \u001b[39m=\u001b[39m char\n\u001b[1;32m--> 247\u001b[0m \u001b[39mdef\u001b[39;00m \u001b[39mmatch\u001b[39m(\u001b[39mself\u001b[39m, char):\n\u001b[0;32m    248\u001b[0m     \u001b[39mif\u001b[39;00m char \u001b[39m==\u001b[39m \u001b[39mself\u001b[39m\u001b[39m.\u001b[39mnext:\n\u001b[0;32m    249\u001b[0m         \u001b[39mself\u001b[39m\u001b[39m.\u001b[39m__next()\n",
      "\u001b[1;31mKeyboardInterrupt\u001b[0m: "
     ]
    }
   ],
   "source": [
    "import nlpaug.augmenter.char as nac\n",
    "import nlpaug.augmenter.word as naw\n",
    "import nlpaug.augmenter.sentence as nas\n",
    "import os\n",
    "\n",
    "text = 'The quick brown fox jumps over the lazy dog .'\n",
    "print(text)"
   ]
  },
  {
   "cell_type": "code",
   "execution_count": null,
   "metadata": {},
   "outputs": [
    {
     "name": "stdout",
     "output_type": "stream",
     "text": [
      "Original:\n",
      "The quick brown fox jumps over the lazy dog .\n",
      "Augmented Text:\n",
      "['The qJiDk brown fox jjm0s over the >aay dog.']\n"
     ]
    }
   ],
   "source": [
    "aug = nac.KeyboardAug()\n",
    "augmented_text = aug.augment(text)\n",
    "print(\"Original:\")\n",
    "print(text)\n",
    "print(\"Augmented Text:\")\n",
    "print(augmented_text)"
   ]
  },
  {
   "cell_type": "code",
   "execution_count": null,
   "metadata": {},
   "outputs": [
    {
     "name": "stdout",
     "output_type": "stream",
     "text": [
      "Original:\n",
      "The quick brown fox jumps over the lazy dog .\n",
      "Augmented Text:\n",
      "['The Suic< brI1n fox jumps ogeD the lazy dog.', 'The q6iSk br0wJ fox jumps kCer the lazy dog.']\n"
     ]
    }
   ],
   "source": [
    "aug = nac.KeyboardAug()\n",
    "augmented_text = aug.augment(text, n=2)\n",
    "print(\"Original:\")\n",
    "print(text)\n",
    "print(\"Augmented Text:\")\n",
    "print(augmented_text)"
   ]
  },
  {
   "cell_type": "code",
   "execution_count": null,
   "metadata": {},
   "outputs": [],
   "source": [
    "texts = [\n",
    "    'The quick brown fox jumps over the lazy dog .',\n",
    "    'It is proved that augmentation is one of the anchor to success of computer vision model.'\n",
    "]"
   ]
  },
  {
   "cell_type": "code",
   "execution_count": null,
   "metadata": {},
   "outputs": [
    {
     "name": "stdout",
     "output_type": "stream",
     "text": [
      "Original:\n",
      "['The quick brown fox jumps over the lazy dog .', 'It is proved that augmentation is one of the anchor to success of computer vision model.']\n",
      "Augmented Text:\n",
      "['The qHLck brown fox yuhps ovDe the lazy dog.', 'It is probfd tyay augmentation is one of the wnXhor to suSceXQ of cLmpuywr visU(n model.']\n"
     ]
    }
   ],
   "source": [
    "aug = nac.KeyboardAug()\n",
    "augmented_text = aug.augment(texts)\n",
    "print(\"Original:\")\n",
    "print(texts)\n",
    "print(\"Augmented Text:\")\n",
    "print(augmented_text)"
   ]
  },
  {
   "cell_type": "code",
   "execution_count": null,
   "metadata": {},
   "outputs": [
    {
     "name": "stdout",
     "output_type": "stream",
     "text": [
      "Original:\n",
      "The quick brown fox jumps over the lazy dog .\n",
      "Augmented Text:\n",
      "['the quick old fox got into the lazy dog.', 'little quick brown fox jumps over that lazy rail.', 'two quick grey fox took over the lazy dog.']\n"
     ]
    }
   ],
   "source": [
    "aug = naw.ContextualWordEmbsAug(\n",
    "    model_path='bert-base-uncased', action=\"substitute\")\n",
    "augmented_text = aug.augment(text, n=3)\n",
    "print(\"Original:\")\n",
    "print(text)\n",
    "print(\"Augmented Text:\")\n",
    "print(augmented_text)"
   ]
  },
  {
   "cell_type": "code",
   "execution_count": null,
   "metadata": {},
   "outputs": [],
   "source": [
    "import pandas as pd\n",
    "from tqdm import tqdm\n",
    "\n",
    "test = pd.read_excel(\"test_data.xlsx\", skiprows=2)"
   ]
  },
  {
   "cell_type": "code",
   "execution_count": null,
   "metadata": {},
   "outputs": [
    {
     "name": "stderr",
     "output_type": "stream",
     "text": [
      " 13%|█▎        | 1302/10001 [25:09:23<140:32:44, 58.16s/it]  "
     ]
    }
   ],
   "source": [
    "if not os.path.exists(\"augmented_data\"):\n",
    "    os.mkdir(\"augmented_data\")\n",
    "\n",
    "aug = naw.ContextualWordEmbsAug(\n",
    "        # model_path='bert-base-uncased', action=\"insert\")\n",
    "        model_path='roberta-base', action=\"substitute\")\n",
    "\n",
    "for i in tqdm(test.index):\n",
    "    file_name = os.path.join(\"augmented_data\", str(test[\"PMID\"][i]) + \"_original.txt\")\n",
    "    if test[\"ABSTRACT\"][i] != \".\":\n",
    "        with open(file_name, \"w\", encoding=\"utf-8\") as file:\n",
    "            file.write(test[\"ABSTRACT\"][i])\n",
    "        generated_text = aug.augment(test[\"ABSTRACT\"][i], n=3)\n",
    "        for j in range(len(augmented_text)):\n",
    "            file_name = os.path.join(\"augmented_data\", str(test[\"PMID\"][i]) + \"_generated\" + str(j+1) + \".txt\")\n",
    "            # print(file_name)\n",
    "            with open(file_name, \"w\", encoding=\"utf-8\") as file:\n",
    "                file.write(generated_text[j])"
   ]
  }
 ],
 "metadata": {
  "kernelspec": {
   "display_name": "snuh",
   "language": "python",
   "name": "python3"
  },
  "language_info": {
   "codemirror_mode": {
    "name": "ipython",
    "version": 3
   },
   "file_extension": ".py",
   "mimetype": "text/x-python",
   "name": "python",
   "nbconvert_exporter": "python",
   "pygments_lexer": "ipython3",
   "version": "3.11.3"
  },
  "orig_nbformat": 4
 },
 "nbformat": 4,
 "nbformat_minor": 2
}
